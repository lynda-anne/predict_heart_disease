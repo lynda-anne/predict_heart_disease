{
 "cells": [
  {
   "cell_type": "code",
   "execution_count": 1,
   "metadata": {},
   "outputs": [],
   "source": [
    "import pandas as pd\n",
    "import numpy as np\n",
    "import matplotlib.pyplot as plt\n",
    "from sklearn.preprocessing import Imputer, StandardScaler\n",
    "from sklearn.pipeline import Pipeline\n",
    "from sklearn.model_selection import train_test_split, cross_val_score\n",
    "from sklearn.metrics import classification_report, log_loss\n",
    "from sklearn import svm\n",
    "from sklearn.linear_model import LogisticRegression\n",
    "from sklearn.preprocessing import scale\n",
    "from sklearn.neighbors import KNeighborsClassifier\n",
    "from sklearn.multiclass import OneVsRestClassifier\n",
    "from sklearn.svm import SVC\n",
    "from sklearn.ensemble import RandomForestClassifier\n",
    "\n",
    "\n"
   ]
  },
  {
   "cell_type": "code",
   "execution_count": 2,
   "metadata": {},
   "outputs": [
    {
     "name": "stdout",
     "output_type": "stream",
     "text": [
      "    age  sex   cp  trestbps   chol  fbs  restecg  thalach  exang  oldpeak  \\\n",
      "0  63.0  1.0  1.0     145.0  233.0  1.0      2.0    150.0    0.0      2.3   \n",
      "1  67.0  1.0  4.0     160.0  286.0  0.0      2.0    108.0    1.0      1.5   \n",
      "2  67.0  1.0  4.0     120.0  229.0  0.0      2.0    129.0    1.0      2.6   \n",
      "3  37.0  1.0  3.0     130.0  250.0  0.0      0.0    187.0    0.0      3.5   \n",
      "4  41.0  0.0  2.0     130.0  204.0  0.0      2.0    172.0    0.0      1.4   \n",
      "\n",
      "   slope   ca thal  num  \n",
      "0    3.0  0.0  6.0    0  \n",
      "1    2.0  3.0  3.0    2  \n",
      "2    2.0  2.0  7.0    1  \n",
      "3    3.0  0.0  3.0    0  \n",
      "4    1.0  0.0  3.0    0  \n",
      "   age  sex  cp trestbps  chol fbs restecg thalach exang oldpeak slope ca  \\\n",
      "0   32    1   1       95     0   ?       0     127     0      .7     1  ?   \n",
      "1   34    1   4      115     0   ?       ?     154     0      .2     1  ?   \n",
      "2   35    1   4        ?     0   ?       0     130     1       ?     ?  ?   \n",
      "3   36    1   4      110     0   ?       0     125     1       1     2  ?   \n",
      "4   38    0   4      105     0   ?       0     166     0     2.8     1  ?   \n",
      "\n",
      "  thal  num  \n",
      "0    ?    1  \n",
      "1    ?    1  \n",
      "2    7    3  \n",
      "3    6    1  \n",
      "4    ?    2  \n",
      "   age  sex  cp trestbps chol fbs  restecg thalach exang oldpeak slope ca  \\\n",
      "0   63    1   4      140  260   0        1     112     1       3     2  ?   \n",
      "1   44    1   4      130  209   0        1     127     0       0     ?  ?   \n",
      "2   60    1   4      132  218   0        1     140     1     1.5     3  ?   \n",
      "3   55    1   4      142  228   0        1     149     1     2.5     1  ?   \n",
      "4   66    1   3      110  213   1        2      99     1     1.3     2  ?   \n",
      "\n",
      "  thal  num  \n",
      "0    ?    2  \n",
      "1    ?    0  \n",
      "2    ?    2  \n",
      "3    ?    1  \n",
      "4    ?    0  \n"
     ]
    }
   ],
   "source": [
    "col_names= ['age', 'sex', 'cp','trestbps', 'chol', 'fbs', 'restecg', 'thalach', 'exang', 'oldpeak', 'slope', 'ca', 'thal', 'num']\n",
    "c_data= pd.read_csv('processed.cleveland.data.csv', header=None, names=col_names)\n",
    "s_data=pd.read_csv('processed.switzerland.data.csv', header=None, names=col_names)\n",
    "v_data=pd.read_csv('processed.va.data.csv', header=None, names=col_names)\n",
    "\n",
    "print(c_data.head())\n",
    "print(s_data.head())\n",
    "print(v_data.head())"
   ]
  },
  {
   "cell_type": "code",
   "execution_count": 3,
   "metadata": {},
   "outputs": [],
   "source": [
    "data= c_data.append([s_data, v_data])\n",
    "# print(data.head())\n",
    "# data.info()\n"
   ]
  },
  {
   "cell_type": "code",
   "execution_count": 4,
   "metadata": {},
   "outputs": [
    {
     "name": "stdout",
     "output_type": "stream",
     "text": [
      "<class 'pandas.core.frame.DataFrame'>\n",
      "Int64Index: 626 entries, 0 to 199\n",
      "Data columns (total 14 columns):\n",
      "age         626 non-null float64\n",
      "sex         626 non-null float64\n",
      "cp          626 non-null float64\n",
      "trestbps    568 non-null float64\n",
      "chol        619 non-null float64\n",
      "fbs         544 non-null float64\n",
      "restecg     625 non-null float64\n",
      "thalach     572 non-null float64\n",
      "exang       572 non-null float64\n",
      "oldpeak     564 non-null float64\n",
      "slope       507 non-null float64\n",
      "ca          306 non-null float64\n",
      "thal        406 non-null float64\n",
      "num         626 non-null float64\n",
      "dtypes: float64(14)\n",
      "memory usage: 73.4 KB\n",
      "(626, 13)\n",
      "(626,)\n"
     ]
    }
   ],
   "source": [
    "data.replace('?', np.nan, inplace=True)\n",
    "data = data.astype(float)\n",
    "data.info()\n",
    "\n",
    "X= data.drop(['num'], axis=1).values\n",
    "y= data['num'].values\n",
    "print(X.shape)\n",
    "print(y.shape)"
   ]
  },
  {
   "cell_type": "code",
   "execution_count": 5,
   "metadata": {},
   "outputs": [
    {
     "name": "stdout",
     "output_type": "stream",
     "text": [
      "0.4521276595744681\n",
      "Test set predicitons: \n",
      " [0. 0. 2. 3. 0. 3. 2. 0. 0. 0. 3. 0. 3. 3. 1. 1. 0. 3. 3. 0. 0. 3. 3. 3.\n",
      " 1. 0. 0. 1. 1. 1. 0. 3. 0. 1. 1. 0. 3. 0. 2. 1. 3. 3. 1. 0. 0. 3. 3. 2.\n",
      " 0. 4. 4. 3. 3. 0. 0. 1. 0. 0. 0. 1. 0. 0. 0. 3. 4. 1. 3. 1. 0. 1. 1. 0.\n",
      " 1. 1. 3. 1. 3. 0. 0. 1. 0. 3. 0. 3. 3. 1. 0. 3. 0. 0. 0. 0. 1. 3. 1. 0.\n",
      " 2. 0. 0. 3. 0. 1. 0. 1. 1. 0. 3. 1. 3. 0. 0. 3. 1. 0. 0. 0. 1. 3. 1. 0.\n",
      " 1. 0. 3. 1. 0. 0. 0. 0. 0. 0. 0. 0. 1. 1. 1. 1. 1. 0. 1. 3. 1. 0. 0. 0.\n",
      " 3. 1. 1. 1. 1. 3. 0. 1. 0. 3. 0. 0. 1. 0. 0. 0. 1. 1. 3. 0. 0. 3. 0. 1.\n",
      " 0. 3. 0. 0. 0. 3. 3. 1. 0. 0. 3. 0. 3. 0. 0. 3. 0. 3. 3. 1.]\n",
      "Score of logreg 0.4521276595744681\n",
      "Cross_Val Score of logreg, [0.41025641 0.44736842 0.47368421 0.43243243 0.52777778]\n",
      "Mean of Cross_val score: 0.45830385040911353\n",
      "log loss for logreg, 1.3088353599474498\n"
     ]
    }
   ],
   "source": [
    "pl= Pipeline([('imp', Imputer()),('clf', OneVsRestClassifier(LogisticRegression()))])\n",
    "\n",
    "X_train, X_test, y_train, y_test= train_test_split(X, y, test_size=0.3, random_state=2)\n",
    "\n",
    "pl.fit(X_train, y_train)\n",
    "accuracy= pl.score(X_test, y_test)\n",
    "\n",
    "y_pred= pl.predict(X_test)\n",
    "predictions= pl.predict_proba(X_test)\n",
    "# dec = pl.decision_function(X_test)\n",
    "cv_results= cross_val_score(pl, X_test, y_test, cv=5)\n",
    "\n",
    "print('Test set predicitons: \\n {}'.format(y_pred))\n",
    "print('Score of logreg {}' .format(pl.score(X_test, y_test)))\n",
    "print('Cross_Val Score of logreg, {}' .format(cv_results))\n",
    "print('Mean of Cross_val score: {}'.format(np.mean(cv_results)))\n",
    "print('log loss for logreg, {}'.format(log_loss(y_test, predictions)))\n"
   ]
  },
  {
   "cell_type": "code",
   "execution_count": null,
   "metadata": {},
   "outputs": [],
   "source": []
  },
  {
   "cell_type": "code",
   "execution_count": null,
   "metadata": {},
   "outputs": [],
   "source": []
  },
  {
   "cell_type": "code",
   "execution_count": null,
   "metadata": {},
   "outputs": [],
   "source": []
  },
  {
   "cell_type": "code",
   "execution_count": 6,
   "metadata": {},
   "outputs": [
    {
     "name": "stdout",
     "output_type": "stream",
     "text": [
      "0.5212765957446809\n",
      "Score of RND For, 5 trees 0.5212765957446809\n",
      "Cross_Val Score of RND For [0.46153846 0.52631579 0.5        0.54054054 0.5       ]\n",
      "Mean of Cross_val score: 0.5056789583105372\n",
      "log loss for RND For, 1.2204222534731786\n"
     ]
    }
   ],
   "source": [
    "pl= Pipeline([('imp', Imputer()),('clf', RandomForestClassifier(n_estimators=15, max_depth=3, max_features=6, random_state=2))])\n",
    "\n",
    "X_train, X_test, y_train, y_test= train_test_split(X, y, test_size=0.3, random_state=2)\n",
    "\n",
    "pl.fit(X_train, y_train)\n",
    "accuracy= pl.score(X_test, y_test)\n",
    "\n",
    "y_pred= pl.predict(X_test)\n",
    "predictions= pl.predict_proba(X_test)\n",
    "cv_results= cross_val_score(pl, X_test, y_test, cv=5)\n",
    "\n",
    "# print('Test set predicitons: \\n {}'.format(y_pred))\n",
    "print('Score of RND For, 5 trees {}' .format(pl.score(X_test, y_test)))\n",
    "print('Cross_Val Score of RND For {}' .format(cv_results))\n",
    "print('Mean of Cross_val score: {}'.format(np.mean(cv_results)))\n",
    "print('log loss for RND For, {}'.format(log_loss(y_test, predictions)))\n"
   ]
  },
  {
   "cell_type": "code",
   "execution_count": 7,
   "metadata": {},
   "outputs": [
    {
     "name": "stdout",
     "output_type": "stream",
     "text": [
      "0.3617021276595745\n",
      "Test set predicitons: \n",
      " [0. 0. 0. 0. 0. 0. 0. 1. 0. 0. 0. 0. 0. 0. 0. 0. 0. 0. 0. 0. 0. 0. 0. 0.\n",
      " 1. 0. 0. 0. 0. 0. 0. 0. 0. 0. 2. 0. 0. 0. 0. 0. 0. 3. 0. 0. 0. 0. 0. 0.\n",
      " 0. 0. 0. 0. 0. 0. 0. 0. 0. 0. 0. 0. 0. 2. 0. 0. 0. 0. 0. 0. 0. 0. 0. 0.\n",
      " 0. 0. 0. 0. 0. 0. 0. 0. 0. 0. 0. 0. 0. 0. 2. 0. 0. 0. 0. 0. 0. 0. 0. 0.\n",
      " 0. 0. 0. 0. 0. 0. 0. 0. 0. 0. 0. 0. 1. 0. 0. 0. 0. 0. 0. 0. 0. 0. 0. 0.\n",
      " 0. 0. 0. 0. 0. 0. 0. 0. 0. 0. 0. 0. 0. 0. 0. 0. 0. 0. 0. 0. 0. 0. 0. 0.\n",
      " 0. 0. 0. 0. 0. 0. 0. 0. 0. 0. 0. 0. 0. 0. 0. 0. 0. 0. 0. 0. 0. 0. 0. 0.\n",
      " 0. 0. 0. 0. 0. 0. 0. 0. 0. 0. 0. 0. 0. 0. 0. 0. 0. 0. 0. 0.]\n",
      "Score of Lin_SVC 0.3617021276595745\n",
      "Cross_Val Score of Lin_SVC, [0.38461538 0.36842105 0.39473684 0.35135135 0.38888889]\n",
      "Mean of Cross_val score: 0.3776027039184934\n"
     ]
    }
   ],
   "source": [
    "pl= Pipeline([('imp', Imputer()),('clf', OneVsRestClassifier(SVC()))])\n",
    "\n",
    "X_train, X_test, y_train, y_test= train_test_split(X, y, test_size=0.3, random_state=2)\n",
    "\n",
    "pl.fit(X_train, y_train)\n",
    "accuracy= pl.score(X_test, y_test)\n",
    "\n",
    "y_pred= pl.predict(X_test)\n",
    "dec = pl.decision_function(X_test)\n",
    "cv_results= cross_val_score(pl, X_test, y_test, cv=5)\n",
    "\n",
    "print('Test set predicitons: \\n {}'.format(y_pred))\n",
    "print('Score of Lin_SVC {}' .format(pl.score(X_test, y_test)))\n",
    "print('Cross_Val Score of Lin_SVC, {}' .format(cv_results))\n",
    "print('Mean of Cross_val score: {}'.format(np.mean(cv_results)))"
   ]
  },
  {
   "cell_type": "code",
   "execution_count": 8,
   "metadata": {},
   "outputs": [
    {
     "name": "stdout",
     "output_type": "stream",
     "text": [
      "0.4095744680851064\n",
      "Test set predicitons: \n",
      " [0. 0. 0. 3. 0. 3. 2. 0. 0. 0. 0. 0. 3. 3. 2. 2. 0. 3. 0. 0. 0. 3. 3. 3.\n",
      " 2. 0. 0. 3. 3. 3. 0. 3. 0. 2. 0. 0. 3. 0. 3. 0. 0. 3. 3. 0. 0. 0. 3. 2.\n",
      " 0. 0. 0. 0. 0. 0. 0. 0. 0. 0. 0. 0. 0. 0. 0. 0. 3. 0. 3. 3. 0. 0. 2. 0.\n",
      " 3. 0. 0. 0. 3. 0. 0. 3. 0. 3. 0. 3. 3. 2. 0. 0. 0. 0. 0. 0. 0. 3. 0. 0.\n",
      " 1. 0. 0. 3. 0. 2. 0. 0. 1. 0. 3. 0. 3. 0. 0. 0. 2. 0. 0. 0. 2. 3. 3. 0.\n",
      " 0. 0. 3. 2. 0. 0. 0. 0. 0. 0. 0. 0. 0. 3. 3. 3. 0. 0. 0. 3. 2. 0. 0. 0.\n",
      " 3. 0. 0. 2. 1. 0. 3. 3. 0. 3. 0. 0. 0. 0. 0. 0. 0. 3. 0. 0. 0. 0. 0. 0.\n",
      " 0. 3. 0. 0. 0. 3. 3. 3. 0. 0. 3. 0. 3. 0. 0. 3. 0. 3. 3. 0.]\n",
      "Score of Lin_SVC 0.4095744680851064\n",
      "Cross_Val Score of Lin_SVC, [0.38461538 0.21052632 0.42105263 0.48648649 0.47222222]\n",
      "Mean of Cross_val score: 0.3949806081385029\n"
     ]
    }
   ],
   "source": [
    "pl= Pipeline([('imp', Imputer()),('clf', OneVsRestClassifier(svm.LinearSVC()))])\n",
    "\n",
    "X_train, X_test, y_train, y_test= train_test_split(X, y, test_size=0.3, random_state=2)\n",
    "\n",
    "pl.fit(X_train, y_train)\n",
    "accuracy= pl.score(X_test, y_test)\n",
    "\n",
    "y_pred= pl.predict(X_test)\n",
    "dec = pl.decision_function(X_test)\n",
    "cv_results= cross_val_score(pl, X_test, y_test, cv=5)\n",
    "\n",
    "print('Test set predicitons: \\n {}'.format(y_pred))\n",
    "print('Score of Lin_SVC {}' .format(pl.score(X_test, y_test)))\n",
    "print('Cross_Val Score of Lin_SVC, {}' .format(cv_results))\n",
    "print('Mean of Cross_val score: {}'.format(np.mean(cv_results)))\n",
    "# print('dec funct, {}'.format(pl.decision_function(X_test)))\n"
   ]
  },
  {
   "cell_type": "code",
   "execution_count": 9,
   "metadata": {},
   "outputs": [
    {
     "name": "stdout",
     "output_type": "stream",
     "text": [
      "0.3351063829787234\n",
      "Score of KNN, n_neigh=5 0.3351063829787234\n",
      "Cross_Val Score of KNN, n_neigh=5 [0.43589744 0.23684211 0.42105263 0.45945946 0.41666667]\n",
      "Mean of Cross_val score: 0.39398365977313343\n",
      "log loss for KNN, 9.184546498050809\n"
     ]
    }
   ],
   "source": [
    "pl= Pipeline([('imp', Imputer()),('clf', OneVsRestClassifier(KNeighborsClassifier(n_neighbors=5)))])\n",
    "\n",
    "X_train, X_test, y_train, y_test= train_test_split(X, y, test_size=0.3, random_state=2)\n",
    "\n",
    "pl.fit(X_train, y_train)\n",
    "accuracy= pl.score(X_test, y_test)\n",
    "\n",
    "y_pred= pl.predict(X_test)\n",
    "predictions= pl.predict_proba(X_test)\n",
    "cv_results= cross_val_score(pl, X_test, y_test, cv=5)\n",
    "\n",
    "# print('Test set predicitons: \\n {}'.format(y_pred))\n",
    "print('Score of KNN, n_neigh=5 {}' .format(pl.score(X_test, y_test)))\n",
    "print('Cross_Val Score of KNN, n_neigh=5 {}' .format(cv_results))\n",
    "print('Mean of Cross_val score: {}'.format(np.mean(cv_results)))\n",
    "print('log loss for KNN, {}'.format(log_loss(y_test, predictions)))\n"
   ]
  }
 ],
 "metadata": {
  "kernelspec": {
   "display_name": "Python 3",
   "language": "python",
   "name": "python3"
  },
  "language_info": {
   "codemirror_mode": {
    "name": "ipython",
    "version": 3
   },
   "file_extension": ".py",
   "mimetype": "text/x-python",
   "name": "python",
   "nbconvert_exporter": "python",
   "pygments_lexer": "ipython3",
   "version": "3.6.4"
  }
 },
 "nbformat": 4,
 "nbformat_minor": 2
}
